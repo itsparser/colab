{
  "nbformat": 4,
  "nbformat_minor": 0,
  "metadata": {
    "colab": {
      "name": "Numpy_Noob2Pro.ipynb",
      "version": "0.3.2",
      "provenance": [],
      "collapsed_sections": [
        "sf_0hvosPig6",
        "KncSN05WPig-",
        "13A0KtgKPihK",
        "Hv3oNiHYPiho",
        "Ni-NBcAkPijL",
        "Bmvi1atyPij9"
      ],
      "include_colab_link": true
    },
    "language_info": {
      "codemirror_mode": {
        "name": "ipython",
        "version": 3
      },
      "file_extension": ".py",
      "mimetype": "text/x-python",
      "name": "python",
      "nbconvert_exporter": "python",
      "pygments_lexer": "ipython3",
      "version": "3.6.5"
    },
    "kernelspec": {
      "display_name": "Python 3",
      "language": "python",
      "name": "python3"
    }
  },
  "cells": [
    {
      "cell_type": "markdown",
      "metadata": {
        "id": "view-in-github",
        "colab_type": "text"
      },
      "source": [
        "<a href=\"https://colab.research.google.com/github/itsparser/colab/blob/live-session/Numpy_Noob2Pro.ipynb\" target=\"_parent\"><img src=\"https://colab.research.google.com/assets/colab-badge.svg\" alt=\"Open In Colab\"/></a>"
      ]
    },
    {
      "cell_type": "markdown",
      "metadata": {
        "id": "ZFmTzKCZPig4",
        "colab_type": "text"
      },
      "source": [
        "<h1 align='center'>Numpy</h1>"
      ]
    },
    {
      "cell_type": "markdown",
      "metadata": {
        "id": "o9ljRNrTPig6",
        "colab_type": "text"
      },
      "source": [
        "<h2>Table of contents</h2>\n",
        "<ol>\n",
        "    <li><a href='#5'>What is NumPy?</a></li>\n",
        "    <li><a href='#6'>Why NumPy?</a></li>\n",
        "    <li><a href='#1'>Numpy Array</a></li>\n",
        "    <li><a href='#2'>N-Dimensional Array</a></li>\n",
        "    <li><a href='#7'>Broadcasting</a></li>\n",
        "    <li><a href='#3'>Memory mapped files</a></li>\n",
        "    <li><a href='#4'>References</a></li>\n",
        "</ol>"
      ]
    },
    {
      "cell_type": "markdown",
      "metadata": {
        "id": "sf_0hvosPig6",
        "colab_type": "text"
      },
      "source": [
        "<a id='5'></a>\n",
        "## What is NumPy?"
      ]
    },
    {
      "cell_type": "markdown",
      "metadata": {
        "id": "f3J5iGs8Pig7",
        "colab_type": "text"
      },
      "source": [
        "![1_mc5YIn7jvo5uwuqBOUDw7Q.jpeg](attachment:1_mc5YIn7jvo5uwuqBOUDw7Q.jpeg)"
      ]
    },
    {
      "cell_type": "markdown",
      "metadata": {
        "id": "wEqr0PDBPig8",
        "colab_type": "text"
      },
      "source": [
        "* NumPy is the fundamental package for scientific computing in Python. \n",
        "* It is a Python library that provides \n",
        "    * a multidimensional array object, \n",
        "    * various derived objects (such as masked arrays and matrices), and \n",
        "    * an assortment of routines for fast operations on arrays, \n",
        "    * including mathematical, logical, shape manipulation, \n",
        "    * sorting, selecting, \n",
        "    * I/O, discrete Fourier transforms, \n",
        "    * basic linear algebra, basic statistical operations, random simulation and much more."
      ]
    },
    {
      "cell_type": "markdown",
      "metadata": {
        "id": "r4Y6d0yjPig9",
        "colab_type": "text"
      },
      "source": [
        "![main-qimg-f6059241bfb8a45594b9c73b151a8b61.png](attachment:main-qimg-f6059241bfb8a45594b9c73b151a8b61.png)"
      ]
    },
    {
      "cell_type": "markdown",
      "metadata": {
        "id": "nTmtVI5DPig9",
        "colab_type": "text"
      },
      "source": [
        "![main-qimg-e93f0acb91c7b3ef0d92894a989fb161.png](attachment:main-qimg-e93f0acb91c7b3ef0d92894a989fb161.png)"
      ]
    },
    {
      "cell_type": "markdown",
      "metadata": {
        "id": "KncSN05WPig-",
        "colab_type": "text"
      },
      "source": [
        "<a id='6'></a>\n",
        "## Why Numpy?"
      ]
    },
    {
      "cell_type": "markdown",
      "metadata": {
        "id": "tK8yRUsePig_",
        "colab_type": "text"
      },
      "source": [
        "* A common beginner question is what is the real difference here. The answer is performance. Numpy data structures perform better in:\n",
        "    * **Size** - Numpy data structures take up less space\n",
        "    * **Performance** - they have a need for speed and are faster than lists\n",
        "    * **Functionality** - SciPy and NumPy have optimized functions such as linear algebra operations built in."
      ]
    },
    {
      "cell_type": "markdown",
      "metadata": {
        "id": "36CmoiLPPig_",
        "colab_type": "text"
      },
      "source": [
        "**Memory**"
      ]
    },
    {
      "cell_type": "markdown",
      "metadata": {
        "id": "K2KFJ1YBPihA",
        "colab_type": "text"
      },
      "source": [
        "* The main benefits of using NumPy arrays should be smaller memory consumption and better runtime behavior. \n",
        "\n",
        "* For Python Lists -  We can conclude from this that for every new element, we need another eight bytes for the reference to the new object. The new integer object itself consumes 28 bytes. The size of a list \"lst\" without the size of the elements can be calculated with:\n",
        "\n",
        "    * 64 + 8 * len(lst) + len(lst) * 28"
      ]
    },
    {
      "cell_type": "markdown",
      "metadata": {
        "id": "pX1RoeDbPihB",
        "colab_type": "text"
      },
      "source": [
        "![list_structure.png](attachment:list_structure.png)"
      ]
    },
    {
      "cell_type": "markdown",
      "metadata": {
        "id": "xwapAjN8PihB",
        "colab_type": "text"
      },
      "source": [
        "* NumPy takes up less space. This means that an arbitrary integer array of length \"n\" in numpy needs\n",
        "\n",
        "    * 96 + n * 8 Bytes\n",
        "\n",
        "* whereas a list of integer"
      ]
    },
    {
      "cell_type": "markdown",
      "metadata": {
        "id": "wiyUEqY-PihC",
        "colab_type": "text"
      },
      "source": [
        "![array_structure.png](attachment:array_structure.png)"
      ]
    },
    {
      "cell_type": "markdown",
      "metadata": {
        "id": "_8Mv4FPFPihC",
        "colab_type": "text"
      },
      "source": [
        "**Speed**"
      ]
    },
    {
      "cell_type": "markdown",
      "metadata": {
        "id": "lJEVqM_HPihD",
        "colab_type": "text"
      },
      "source": [
        "* This shows some performance numbers of operations between Python and Numpy."
      ]
    },
    {
      "cell_type": "code",
      "metadata": {
        "id": "wkzykp6tPihE",
        "colab_type": "code",
        "colab": {},
        "outputId": "2690c41c-cd3d-480d-eda1-2a608945ea5e"
      },
      "source": [
        "import time\n",
        "import numpy as np\n",
        "\n",
        "size_of_vec = 1000\n",
        "\n",
        "def pure_python_version():\n",
        "  \"\"\"Adding two arrays using pure python\"\"\"\n",
        "  t1 = time.time()\n",
        "  X = range(size_of_vec)\n",
        "  Y = range(size_of_vec)\n",
        "  Z = [X[i] + Y[i] for i in range(len(X)) ]\n",
        "  return time.time() - t1\n",
        "\n",
        "def numpy_version():\n",
        "  \"\"\"Adding two arrays using numpy\"\"\"  \n",
        "  t1 = time.time()\n",
        "  X = np.arange(size_of_vec)\n",
        "  Y = np.arange(size_of_vec)\n",
        "  Z = X + Y\n",
        "  return time.time() - t1\n",
        "\n",
        "\n",
        "t1 = pure_python_version()\n",
        "t2 = numpy_version()\n",
        "print(\"Pure python: \" + str(t1))\n",
        "print(\"Numpy: \" + str(t2))\n",
        "print(\"\\nNumpy is in this example \" + str(t1/t2) + \" faster!\")"
      ],
      "execution_count": 0,
      "outputs": [
        {
          "output_type": "stream",
          "text": [
            "Pure python: 0.0005288124084472656\n",
            "Numpy: 5.14984130859375e-05\n",
            "\n",
            "Numpy is in this example 10.268518518518519 faster!\n"
          ],
          "name": "stdout"
        }
      ]
    },
    {
      "cell_type": "markdown",
      "metadata": {
        "id": "13A0KtgKPihK",
        "colab_type": "text"
      },
      "source": [
        "<a id='1'></a>\n",
        "## Numpy Array"
      ]
    },
    {
      "cell_type": "markdown",
      "metadata": {
        "id": "EvYaDuUWPihL",
        "colab_type": "text"
      },
      "source": [
        "* The ndarray (NumPy Array) is a multidimensional array used to store values of same datatype.\n",
        "* These arrays are indexed just like Sequences, starts with zero."
      ]
    },
    {
      "cell_type": "markdown",
      "metadata": {
        "id": "ppfN7_aaPihM",
        "colab_type": "text"
      },
      "source": [
        "![elsp_0105.png](attachment:elsp_0105.png)"
      ]
    },
    {
      "cell_type": "markdown",
      "metadata": {
        "id": "PIZyntI7PihM",
        "colab_type": "text"
      },
      "source": [
        "* NumPy Arrays come in two forms; Vectors and Matrices. \n",
        "    * Vectors are strictly one-dimensional(1-d) arrays, \n",
        "    * while Matrices are multidimensional. In some cases, Matrices can still have only one row or one column."
      ]
    },
    {
      "cell_type": "markdown",
      "metadata": {
        "id": "P4r7Pe5jPihN",
        "colab_type": "text"
      },
      "source": [
        "**Let’s start by importing NumPy in your Jupyter notebook.**"
      ]
    },
    {
      "cell_type": "code",
      "metadata": {
        "id": "_bypjaRUPihO",
        "colab_type": "code",
        "colab": {}
      },
      "source": [
        "import numpy as np"
      ],
      "execution_count": 0,
      "outputs": []
    },
    {
      "cell_type": "markdown",
      "metadata": {
        "id": "VY1u2w_sPihQ",
        "colab_type": "text"
      },
      "source": [
        "**Creating numpy arrays from python lists**"
      ]
    },
    {
      "cell_type": "code",
      "metadata": {
        "id": "R0ZFnVoJPihR",
        "colab_type": "code",
        "colab": {}
      },
      "source": [
        "my_list = [1,2,3,4,5]"
      ],
      "execution_count": 0,
      "outputs": []
    },
    {
      "cell_type": "markdown",
      "metadata": {
        "id": "tkdIDQmzPihT",
        "colab_type": "text"
      },
      "source": [
        "**We can simply create a NumPy array called my_numpy_list and display the result:**"
      ]
    },
    {
      "cell_type": "code",
      "metadata": {
        "id": "jbE_etzGPihU",
        "colab_type": "code",
        "colab": {},
        "outputId": "d2ecb85f-20ef-468d-a6d6-6e748ccb2403"
      },
      "source": [
        "my_numpy_list = np.array(my_list)\n",
        "my_numpy_list  #This line show the result of the array generated"
      ],
      "execution_count": 0,
      "outputs": [
        {
          "output_type": "execute_result",
          "data": {
            "text/plain": [
              "array([1, 2, 3, 4, 5])"
            ]
          },
          "metadata": {
            "tags": []
          },
          "execution_count": 4
        }
      ]
    },
    {
      "cell_type": "markdown",
      "metadata": {
        "id": "KPqC6GmpPihY",
        "colab_type": "text"
      },
      "source": [
        "![Screenshot%20from%202018-05-10%2002-04-19.png](attachment:Screenshot%20from%202018-05-10%2002-04-19.png)"
      ]
    },
    {
      "cell_type": "markdown",
      "metadata": {
        "id": "xOBym7esPihY",
        "colab_type": "text"
      },
      "source": [
        "**Creating NumPy array using arange() built-in function.**"
      ]
    },
    {
      "cell_type": "markdown",
      "metadata": {
        "id": "JJJWYtbjPihZ",
        "colab_type": "text"
      },
      "source": [
        "* Similar to the python built-in range() function, we will create a NumPy array using arange()."
      ]
    },
    {
      "cell_type": "code",
      "metadata": {
        "id": "Ut1fFE9QPiha",
        "colab_type": "code",
        "colab": {},
        "outputId": "4e2b1f5b-2e4b-4ac9-9821-a0e254374dd1"
      },
      "source": [
        "my_list = np.arange(10)\n",
        "#OR\n",
        "my_list = np.arange(0,10)\n",
        "my_list"
      ],
      "execution_count": 0,
      "outputs": [
        {
          "output_type": "execute_result",
          "data": {
            "text/plain": [
              "array([0, 1, 2, 3, 4, 5, 6, 7, 8, 9])"
            ]
          },
          "metadata": {
            "tags": []
          },
          "execution_count": 5
        }
      ]
    },
    {
      "cell_type": "markdown",
      "metadata": {
        "id": "0w9RUemUPihd",
        "colab_type": "text"
      },
      "source": [
        "![Screenshot%20from%202018-05-10%2002-05-15.png](attachment:Screenshot%20from%202018-05-10%2002-05-15.png)"
      ]
    },
    {
      "cell_type": "markdown",
      "metadata": {
        "id": "WB9fmGacPihd",
        "colab_type": "text"
      },
      "source": [
        "* This generates 10 digits of values from index 0 to 10.\n",
        "* It is important to note that the arange() function can also take 3 arguments. \n",
        "* The third argument signifies the step size of the operation. \n",
        "* For example, to get all even numbers from 0 to 10, simply add a step size of 2 like below."
      ]
    },
    {
      "cell_type": "code",
      "metadata": {
        "id": "FdsZ2t-SPihe",
        "colab_type": "code",
        "colab": {},
        "outputId": "49b80aab-50ca-464e-8c87-7379eeba3e61"
      },
      "source": [
        "my_list = np.arange(0,11,2)\n",
        "my_list"
      ],
      "execution_count": 0,
      "outputs": [
        {
          "output_type": "execute_result",
          "data": {
            "text/plain": [
              "array([ 0,  2,  4,  6,  8, 10])"
            ]
          },
          "metadata": {
            "tags": []
          },
          "execution_count": 6
        }
      ]
    },
    {
      "cell_type": "markdown",
      "metadata": {
        "id": "lp3wfmR5Pihh",
        "colab_type": "text"
      },
      "source": [
        "**We can also generate a one-dimensional array of seven zeros.**"
      ]
    },
    {
      "cell_type": "code",
      "metadata": {
        "id": "skBYNJyjPihi",
        "colab_type": "code",
        "colab": {},
        "outputId": "37ba811e-6edc-4a62-b568-4e6e92de190d"
      },
      "source": [
        "my_zeros = np.zeros(7)\n",
        "my_zeros"
      ],
      "execution_count": 0,
      "outputs": [
        {
          "output_type": "execute_result",
          "data": {
            "text/plain": [
              "array([0., 0., 0., 0., 0., 0., 0.])"
            ]
          },
          "metadata": {
            "tags": []
          },
          "execution_count": 7
        }
      ]
    },
    {
      "cell_type": "markdown",
      "metadata": {
        "id": "T_0eAkiUPihm",
        "colab_type": "text"
      },
      "source": [
        "![Screenshot%20from%202018-05-10%2012-20-16.png](attachment:Screenshot%20from%202018-05-10%2012-20-16.png)"
      ]
    },
    {
      "cell_type": "markdown",
      "metadata": {
        "id": "Hv3oNiHYPiho",
        "colab_type": "text"
      },
      "source": [
        "<a id='2'></a>\n",
        "## N-Dimensional Array"
      ]
    },
    {
      "cell_type": "markdown",
      "metadata": {
        "id": "PTbxEjKyPihp",
        "colab_type": "text"
      },
      "source": [
        "![main-qimg-cc51a4de89837eca971f0202e7572d88.png](attachment:main-qimg-cc51a4de89837eca971f0202e7572d88.png)"
      ]
    },
    {
      "cell_type": "markdown",
      "metadata": {
        "id": "xAekfMJoPihp",
        "colab_type": "text"
      },
      "source": [
        "**To get a 2-dimensional array, we have to cast a list of list as shown below.**"
      ]
    },
    {
      "cell_type": "code",
      "metadata": {
        "id": "40lSZNffPihr",
        "colab_type": "code",
        "colab": {},
        "outputId": "7f533a9b-fa38-4d19-ef9a-3fd520fc38e1"
      },
      "source": [
        "second_list = [[1,2,3], [5,4,1], [3,6,7]]\n",
        "new_2d_arr = np.array(second_list)\n",
        "new_2d_arr  #This line show the result of the array generated"
      ],
      "execution_count": 0,
      "outputs": [
        {
          "output_type": "execute_result",
          "data": {
            "text/plain": [
              "array([[1, 2, 3],\n",
              "       [5, 4, 1],\n",
              "       [3, 6, 7]])"
            ]
          },
          "metadata": {
            "tags": []
          },
          "execution_count": 8
        }
      ]
    },
    {
      "cell_type": "code",
      "metadata": {
        "id": "hpk0iah-Pihy",
        "colab_type": "code",
        "colab": {},
        "outputId": "8346a407-d058-4b69-dec9-c9ffca3c7bf4"
      },
      "source": [
        "type(new_2d_arr)"
      ],
      "execution_count": 0,
      "outputs": [
        {
          "output_type": "execute_result",
          "data": {
            "text/plain": [
              "numpy.ndarray"
            ]
          },
          "metadata": {
            "tags": []
          },
          "execution_count": 9
        }
      ]
    },
    {
      "cell_type": "code",
      "metadata": {
        "id": "TVzqZIIkPih5",
        "colab_type": "code",
        "colab": {},
        "outputId": "c87de8a5-7029-42cd-d4ee-01e2ded8075b"
      },
      "source": [
        "new_2d_arr.shape"
      ],
      "execution_count": 0,
      "outputs": [
        {
          "output_type": "execute_result",
          "data": {
            "text/plain": [
              "(3, 3)"
            ]
          },
          "metadata": {
            "tags": []
          },
          "execution_count": 10
        }
      ]
    },
    {
      "cell_type": "markdown",
      "metadata": {
        "id": "txfPukDGPih9",
        "colab_type": "text"
      },
      "source": [
        "**Slicing Arrays, like other Python sequences can also be sliced:**"
      ]
    },
    {
      "cell_type": "markdown",
      "metadata": {
        "id": "DIPH7wl-Pih-",
        "colab_type": "text"
      },
      "source": [
        "![numpy_indexing.png](attachment:numpy_indexing.png)"
      ]
    },
    {
      "cell_type": "code",
      "metadata": {
        "id": "pqg63EvwPih-",
        "colab_type": "code",
        "colab": {},
        "outputId": "6b64acb7-9e3d-452a-acc5-08c8f5ad7f94"
      },
      "source": [
        "a = np.arange(10)\n",
        "a"
      ],
      "execution_count": 0,
      "outputs": [
        {
          "output_type": "execute_result",
          "data": {
            "text/plain": [
              "array([0, 1, 2, 3, 4, 5, 6, 7, 8, 9])"
            ]
          },
          "metadata": {
            "tags": []
          },
          "execution_count": 11
        }
      ]
    },
    {
      "cell_type": "markdown",
      "metadata": {
        "id": "RCnSBLQdPiiB",
        "colab_type": "text"
      },
      "source": [
        "**[start:end:step]**\n",
        "\n",
        "**All three slice components are not required: by default, start is 0, end is the last and step is 1**"
      ]
    },
    {
      "cell_type": "code",
      "metadata": {
        "scrolled": true,
        "id": "MX8p84VVPiiC",
        "colab_type": "code",
        "colab": {},
        "outputId": "8f97bd3b-bd9d-4108-dad3-8ea5847bb609"
      },
      "source": [
        "a[2:9:3]"
      ],
      "execution_count": 0,
      "outputs": [
        {
          "output_type": "execute_result",
          "data": {
            "text/plain": [
              "array([2, 5, 8])"
            ]
          },
          "metadata": {
            "tags": []
          },
          "execution_count": 12
        }
      ]
    },
    {
      "cell_type": "markdown",
      "metadata": {
        "id": "QNVISUzCPiiE",
        "colab_type": "text"
      },
      "source": [
        "**Numerical operations on arrays**"
      ]
    },
    {
      "cell_type": "markdown",
      "metadata": {
        "id": "09yZ4Hv6PiiF",
        "colab_type": "text"
      },
      "source": [
        "**With scalars:**"
      ]
    },
    {
      "cell_type": "code",
      "metadata": {
        "id": "UxukeALpPiiG",
        "colab_type": "code",
        "colab": {},
        "outputId": "fa339ed9-2178-4c12-d2de-cdc40d82de69"
      },
      "source": [
        "a = np.array([1, 2, 3, 4])\n",
        "a + 1"
      ],
      "execution_count": 0,
      "outputs": [
        {
          "output_type": "execute_result",
          "data": {
            "text/plain": [
              "array([2, 3, 4, 5])"
            ]
          },
          "metadata": {
            "tags": []
          },
          "execution_count": 13
        }
      ]
    },
    {
      "cell_type": "markdown",
      "metadata": {
        "id": "TCtQwNKYPiiL",
        "colab_type": "text"
      },
      "source": [
        "**All arithmetic operates elementwise:**"
      ]
    },
    {
      "cell_type": "code",
      "metadata": {
        "id": "8mfKAd4GPiiL",
        "colab_type": "code",
        "colab": {},
        "outputId": "de1c131b-82e4-44ca-cac0-21f974ea4d49"
      },
      "source": [
        "a = np.array([1,2,3,4])\n",
        "b = np.array([1,2,3,4])\n",
        "a + b"
      ],
      "execution_count": 0,
      "outputs": [
        {
          "output_type": "execute_result",
          "data": {
            "text/plain": [
              "array([2, 4, 6, 8])"
            ]
          },
          "metadata": {
            "tags": []
          },
          "execution_count": 2
        }
      ]
    },
    {
      "cell_type": "markdown",
      "metadata": {
        "id": "8k4UaPlCPiiP",
        "colab_type": "text"
      },
      "source": [
        "**Array multiplication is not matrix multiplication:**"
      ]
    },
    {
      "cell_type": "code",
      "metadata": {
        "id": "7i6Zl4kOPiiP",
        "colab_type": "code",
        "colab": {},
        "outputId": "e454f98e-f201-4d01-c7d1-a6f95c2c8747"
      },
      "source": [
        "c = np.ones((3, 3))\n",
        "c * c"
      ],
      "execution_count": 0,
      "outputs": [
        {
          "output_type": "execute_result",
          "data": {
            "text/plain": [
              "array([[1., 1., 1.],\n",
              "       [1., 1., 1.],\n",
              "       [1., 1., 1.]])"
            ]
          },
          "metadata": {
            "tags": []
          },
          "execution_count": 3
        }
      ]
    },
    {
      "cell_type": "markdown",
      "metadata": {
        "id": "COi0FtMUPiiT",
        "colab_type": "text"
      },
      "source": [
        "**Matrix Multiplication**"
      ]
    },
    {
      "cell_type": "code",
      "metadata": {
        "scrolled": true,
        "id": "VE6xHYtIPiiV",
        "colab_type": "code",
        "colab": {},
        "outputId": "9d8c2042-310c-474d-fbc7-aa17544859e2"
      },
      "source": [
        "a = np.array([[1,2,3],[4,5,6],[7,8,9]])\n",
        "b = np.array([[1,2,3],[4,5,6],[7,8,9]])\n",
        "a.dot(b)"
      ],
      "execution_count": 0,
      "outputs": [
        {
          "output_type": "execute_result",
          "data": {
            "text/plain": [
              "array([[ 30,  36,  42],\n",
              "       [ 66,  81,  96],\n",
              "       [102, 126, 150]])"
            ]
          },
          "metadata": {
            "tags": []
          },
          "execution_count": 4
        }
      ]
    },
    {
      "cell_type": "markdown",
      "metadata": {
        "id": "tsQTFKZpPiiY",
        "colab_type": "text"
      },
      "source": [
        "![matrix-multiplication.jpg](attachment:matrix-multiplication.jpg)"
      ]
    },
    {
      "cell_type": "markdown",
      "metadata": {
        "id": "zoB-i6vYPiiZ",
        "colab_type": "text"
      },
      "source": [
        "![Screenshot%20from%202018-05-10%2012-21-26.png](attachment:Screenshot%20from%202018-05-10%2012-21-26.png)"
      ]
    },
    {
      "cell_type": "markdown",
      "metadata": {
        "id": "btuidDrTPiiZ",
        "colab_type": "text"
      },
      "source": [
        "**Example: data statistics**"
      ]
    },
    {
      "cell_type": "markdown",
      "metadata": {
        "id": "aOQ8BOfQPiia",
        "colab_type": "text"
      },
      "source": [
        "* Data in populations.txt describes the populations of hares and lynxes (and carrots) in northern Canada during 20 years.\n",
        "\n",
        "* We can first plot the data:"
      ]
    },
    {
      "cell_type": "code",
      "metadata": {
        "id": "q9jtRKb3Piib",
        "colab_type": "code",
        "colab": {},
        "outputId": "ebfa8e07-1881-42f1-d7d2-c21c076b35d6"
      },
      "source": [
        "data = np.loadtxt('data/populations.txt')\n",
        "year, hares, lynxes, carrots = data.T\n",
        "data"
      ],
      "execution_count": 0,
      "outputs": [
        {
          "output_type": "execute_result",
          "data": {
            "text/plain": [
              "array([[ 1900., 30000.,  4000., 48300.],\n",
              "       [ 1901., 47200.,  6100., 48200.],\n",
              "       [ 1902., 70200.,  9800., 41500.],\n",
              "       [ 1903., 77400., 35200., 38200.],\n",
              "       [ 1904., 36300., 59400., 40600.],\n",
              "       [ 1905., 20600., 41700., 39800.],\n",
              "       [ 1906., 18100., 19000., 38600.],\n",
              "       [ 1907., 21400., 13000., 42300.],\n",
              "       [ 1908., 22000.,  8300., 44500.],\n",
              "       [ 1909., 25400.,  9100., 42100.],\n",
              "       [ 1910., 27100.,  7400., 46000.],\n",
              "       [ 1911., 40300.,  8000., 46800.],\n",
              "       [ 1912., 57000., 12300., 43800.],\n",
              "       [ 1913., 76600., 19500., 40900.],\n",
              "       [ 1914., 52300., 45700., 39400.],\n",
              "       [ 1915., 19500., 51100., 39000.],\n",
              "       [ 1916., 11200., 29700., 36700.],\n",
              "       [ 1917.,  7600., 15800., 41800.],\n",
              "       [ 1918., 14600.,  9700., 43300.],\n",
              "       [ 1919., 16200., 10100., 41300.],\n",
              "       [ 1920., 24700.,  8600., 47300.]])"
            ]
          },
          "metadata": {
            "tags": []
          },
          "execution_count": 5
        }
      ]
    },
    {
      "cell_type": "code",
      "metadata": {
        "id": "bcO36zo_Piie",
        "colab_type": "code",
        "colab": {},
        "outputId": "d2db4c99-9148-4247-cf15-8b0067bc4b95"
      },
      "source": [
        "np.argmax(data,axis=0)"
      ],
      "execution_count": 0,
      "outputs": [
        {
          "output_type": "error",
          "ename": "TypeError",
          "evalue": "argmax() missing 1 required positional argument: 'a'",
          "traceback": [
            "\u001b[0;31m---------------------------------------------------------------------------\u001b[0m",
            "\u001b[0;31mTypeError\u001b[0m                                 Traceback (most recent call last)",
            "\u001b[0;32m<ipython-input-6-47f39a09233e>\u001b[0m in \u001b[0;36m<module>\u001b[0;34m()\u001b[0m\n\u001b[0;32m----> 1\u001b[0;31m \u001b[0mnp\u001b[0m\u001b[0;34m.\u001b[0m\u001b[0margmax\u001b[0m\u001b[0;34m(\u001b[0m\u001b[0maxis\u001b[0m\u001b[0;34m=\u001b[0m\u001b[0;36m0\u001b[0m\u001b[0;34m)\u001b[0m\u001b[0;34m\u001b[0m\u001b[0m\n\u001b[0m",
            "\u001b[0;31mTypeError\u001b[0m: argmax() missing 1 required positional argument: 'a'"
          ]
        }
      ]
    },
    {
      "cell_type": "markdown",
      "metadata": {
        "id": "r9EoMghiPiii",
        "colab_type": "text"
      },
      "source": [
        "![Screenshot%20from%202018-05-10%2012-22-36.png](attachment:Screenshot%20from%202018-05-10%2012-22-36.png)"
      ]
    },
    {
      "cell_type": "markdown",
      "metadata": {
        "id": "JA4IxTT8Piii",
        "colab_type": "text"
      },
      "source": [
        "**The mean populations over time:**"
      ]
    },
    {
      "cell_type": "markdown",
      "metadata": {
        "id": "f5zMvCrdPiij",
        "colab_type": "text"
      },
      "source": [
        "![Picture5.png](attachment:Picture5.png)"
      ]
    },
    {
      "cell_type": "code",
      "metadata": {
        "id": "XIAOjt6cPiij",
        "colab_type": "code",
        "colab": {},
        "outputId": "3b91b945-faa6-4c85-d6ed-740f9fcc339d"
      },
      "source": [
        "populations = data[:, 1:]\n",
        "populations.mean(axis=0)"
      ],
      "execution_count": 0,
      "outputs": [
        {
          "output_type": "execute_result",
          "data": {
            "text/plain": [
              "array([34080.95238095, 20166.66666667, 42400.        ])"
            ]
          },
          "metadata": {
            "tags": []
          },
          "execution_count": 7
        }
      ]
    },
    {
      "cell_type": "code",
      "metadata": {
        "id": "x6we9_-5Piir",
        "colab_type": "code",
        "colab": {},
        "outputId": "70801ef5-d7ef-457f-a30a-d8b3b1c250f0"
      },
      "source": [
        "populations"
      ],
      "execution_count": 0,
      "outputs": [
        {
          "output_type": "execute_result",
          "data": {
            "text/plain": [
              "array([[30000.,  4000., 48300.],\n",
              "       [47200.,  6100., 48200.],\n",
              "       [70200.,  9800., 41500.],\n",
              "       [77400., 35200., 38200.],\n",
              "       [36300., 59400., 40600.],\n",
              "       [20600., 41700., 39800.],\n",
              "       [18100., 19000., 38600.],\n",
              "       [21400., 13000., 42300.],\n",
              "       [22000.,  8300., 44500.],\n",
              "       [25400.,  9100., 42100.],\n",
              "       [27100.,  7400., 46000.],\n",
              "       [40300.,  8000., 46800.],\n",
              "       [57000., 12300., 43800.],\n",
              "       [76600., 19500., 40900.],\n",
              "       [52300., 45700., 39400.],\n",
              "       [19500., 51100., 39000.],\n",
              "       [11200., 29700., 36700.],\n",
              "       [ 7600., 15800., 41800.],\n",
              "       [14600.,  9700., 43300.],\n",
              "       [16200., 10100., 41300.],\n",
              "       [24700.,  8600., 47300.]])"
            ]
          },
          "metadata": {
            "tags": []
          },
          "execution_count": 8
        }
      ]
    },
    {
      "cell_type": "code",
      "metadata": {
        "id": "raHQqZTrPiiw",
        "colab_type": "code",
        "colab": {},
        "outputId": "70f8db68-d69e-4f0f-a147-386d8a854459"
      },
      "source": [
        "np.argmax(populations, axis=0)"
      ],
      "execution_count": 0,
      "outputs": [
        {
          "output_type": "execute_result",
          "data": {
            "text/plain": [
              "array([3, 4, 0])"
            ]
          },
          "metadata": {
            "tags": []
          },
          "execution_count": 10
        }
      ]
    },
    {
      "cell_type": "code",
      "metadata": {
        "id": "dzXvQRRpPii2",
        "colab_type": "code",
        "colab": {},
        "outputId": "f9053d45-14fc-4b8c-c2cb-58dd66a0f3a9"
      },
      "source": [
        "np.argmax(populations, axis=1)"
      ],
      "execution_count": 0,
      "outputs": [
        {
          "output_type": "execute_result",
          "data": {
            "text/plain": [
              "array([2, 2, 0, 0, 1, 1, 2, 2, 2, 2, 2, 2, 0, 0, 0, 1, 2, 2, 2, 2, 2])"
            ]
          },
          "metadata": {
            "tags": []
          },
          "execution_count": 11
        }
      ]
    },
    {
      "cell_type": "markdown",
      "metadata": {
        "id": "AGP3OW0aPii6",
        "colab_type": "text"
      },
      "source": [
        "![Screenshot%20from%202018-05-10%2012-23-42.png](attachment:Screenshot%20from%202018-05-10%2012-23-42.png)"
      ]
    },
    {
      "cell_type": "markdown",
      "metadata": {
        "id": "o5nVI0WWPii7",
        "colab_type": "text"
      },
      "source": [
        "**The Sample standard deviation**"
      ]
    },
    {
      "cell_type": "markdown",
      "metadata": {
        "id": "Bt7ut4kVPii7",
        "colab_type": "text"
      },
      "source": [
        "![main-qimg-305ff0d5aaf85e1c467e3c10d6e603c8.gif](attachment:main-qimg-305ff0d5aaf85e1c467e3c10d6e603c8.gif)"
      ]
    },
    {
      "cell_type": "code",
      "metadata": {
        "id": "52hwh0LbPii8",
        "colab_type": "code",
        "colab": {},
        "outputId": "f07d8fd9-8275-4d4a-867a-ee40001d67cc"
      },
      "source": [
        "populations.std(axis=0)"
      ],
      "execution_count": 0,
      "outputs": [
        {
          "output_type": "execute_result",
          "data": {
            "text/plain": [
              "array([20897.90645809, 16254.59153691,  3322.50622558])"
            ]
          },
          "metadata": {
            "tags": []
          },
          "execution_count": 19
        }
      ]
    },
    {
      "cell_type": "markdown",
      "metadata": {
        "id": "oce1leP5PijC",
        "colab_type": "text"
      },
      "source": [
        "![Screenshot%20from%202018-05-10%2012-24-23.png](attachment:Screenshot%20from%202018-05-10%2012-24-23.png)"
      ]
    },
    {
      "cell_type": "markdown",
      "metadata": {
        "id": "f96sf5OxPijD",
        "colab_type": "text"
      },
      "source": [
        "**Which species has the highest population each year?**"
      ]
    },
    {
      "cell_type": "code",
      "metadata": {
        "id": "sudM7E11PijE",
        "colab_type": "code",
        "colab": {},
        "outputId": "570687ac-db16-4b13-fb9b-d29ac8aa3222"
      },
      "source": [
        "np.argmax(populations, axis=1)"
      ],
      "execution_count": 0,
      "outputs": [
        {
          "output_type": "execute_result",
          "data": {
            "text/plain": [
              "array([2, 2, 0, 0, 1, 1, 2, 2, 2, 2, 2, 2, 0, 0, 0, 1, 2, 2, 2, 2, 2])"
            ]
          },
          "metadata": {
            "tags": []
          },
          "execution_count": 20
        }
      ]
    },
    {
      "cell_type": "markdown",
      "metadata": {
        "id": "pV6DjNToPijK",
        "colab_type": "text"
      },
      "source": [
        "![Screenshot%20from%202018-05-10%2012-25-10.png](attachment:Screenshot%20from%202018-05-10%2012-25-10.png)"
      ]
    },
    {
      "cell_type": "markdown",
      "metadata": {
        "id": "Ni-NBcAkPijL",
        "colab_type": "text"
      },
      "source": [
        "<a id='7'></a>\n",
        "## Broadcasting"
      ]
    },
    {
      "cell_type": "markdown",
      "metadata": {
        "id": "DpnzMeSxPijM",
        "colab_type": "text"
      },
      "source": [
        "* Broadcasting is a powerful mechanism that allows numpy to work with arrays of different shapes when performing arithmetic operations.\n",
        "* Frequently we have a smaller array and a larger array, and we want to use the smaller array multiple times to perform some operation on the larger array."
      ]
    },
    {
      "cell_type": "markdown",
      "metadata": {
        "id": "mvRomzhFPijO",
        "colab_type": "text"
      },
      "source": [
        "* For example, suppose that we want to add a constant vector to each row of a matrix. We could do it like this:"
      ]
    },
    {
      "cell_type": "code",
      "metadata": {
        "id": "leGdiCx_PijR",
        "colab_type": "code",
        "colab": {},
        "outputId": "4bc9276a-fcbb-451f-c7e2-ea6a76a7c0bb"
      },
      "source": [
        "import numpy as np\n",
        "\n",
        "# We will add the vector v to each row of the matrix x,\n",
        "# storing the result in the matrix y\n",
        "x = np.array([[1,2,3], [4,5,6], [7,8,9], [10, 11, 12]])\n",
        "v = np.array([1, 0, 1])\n",
        "y = np.empty_like(x)   # Create an empty matrix with the same shape as x\n",
        "\n",
        "# Add the vector v to each row of the matrix x with an explicit loop\n",
        "for i in range(4):\n",
        "    y[i, :] = x[i, :] + v\n",
        "\n",
        "# Now y is the following\n",
        "print(y)"
      ],
      "execution_count": 0,
      "outputs": [
        {
          "output_type": "stream",
          "text": [
            "[[ 2  2  4]\n",
            " [ 5  5  7]\n",
            " [ 8  8 10]\n",
            " [11 11 13]]\n"
          ],
          "name": "stdout"
        }
      ]
    },
    {
      "cell_type": "markdown",
      "metadata": {
        "id": "sI6TonDgPijV",
        "colab_type": "text"
      },
      "source": [
        "![Screenshot%20from%202018-05-10%2011-59-14.png](attachment:Screenshot%20from%202018-05-10%2011-59-14.png)"
      ]
    },
    {
      "cell_type": "markdown",
      "metadata": {
        "id": "Hghjte53PijW",
        "colab_type": "text"
      },
      "source": [
        "* This works; however when the matrix x is very large, computing an explicit loop in Python could be slow. \n",
        "* Note that adding the vector v to each row of the matrix x is equivalent to forming a matrix vv by stacking multiple copies of v vertically, then performing elementwise summation of x and vv.\n",
        "* We could implement this approach like this:"
      ]
    },
    {
      "cell_type": "code",
      "metadata": {
        "id": "mTkaChxwPijX",
        "colab_type": "code",
        "colab": {},
        "outputId": "c5f0831b-121c-4ae1-f8dd-233721a48570"
      },
      "source": [
        "import numpy as np\n",
        "\n",
        "# We will add the vector v to each row of the matrix x,\n",
        "# storing the result in the matrix y\n",
        "x = np.array([[1,2,3], [4,5,6], [7,8,9], [10, 11, 12]])\n",
        "v = np.array([1, 0, 1])\n",
        "\n",
        "# Stack 4 copies of v on top of each other\n",
        "vv = np.tile(v, (4, 1))   \n",
        "print(vv)                 \n",
        "\n",
        "# Add x and vv elementwise\n",
        "y = x + vv  \n",
        "print(y)"
      ],
      "execution_count": 0,
      "outputs": [
        {
          "output_type": "stream",
          "text": [
            "[[1 0 1]\n",
            " [1 0 1]\n",
            " [1 0 1]\n",
            " [1 0 1]]\n",
            "[[ 2  2  4]\n",
            " [ 5  5  7]\n",
            " [ 8  8 10]\n",
            " [11 11 13]]\n"
          ],
          "name": "stdout"
        }
      ]
    },
    {
      "cell_type": "markdown",
      "metadata": {
        "id": "jIRm6MovPija",
        "colab_type": "text"
      },
      "source": [
        "![Screenshot%20from%202018-05-10%2012-07-12.png](attachment:Screenshot%20from%202018-05-10%2012-07-12.png)"
      ]
    },
    {
      "cell_type": "markdown",
      "metadata": {
        "id": "TPzn3h9tPijb",
        "colab_type": "text"
      },
      "source": [
        "* Numpy broadcasting allows us to perform this computation without actually creating multiple copies of v. \n",
        "* Consider this version, using broadcasting:"
      ]
    },
    {
      "cell_type": "code",
      "metadata": {
        "id": "hVWzJuoVPijd",
        "colab_type": "code",
        "colab": {},
        "outputId": "9fafd676-8655-4a04-f7e3-d5ed14a26152"
      },
      "source": [
        "import numpy as np\n",
        "\n",
        "# We will add the vector v to each row of the matrix x,\n",
        "# storing the result in the matrix y\n",
        "x = np.array([[1,2,3], [4,5,6], [7,8,9], [10, 11, 12]])\n",
        "v = np.array([1, 0, 1])\n",
        "\n",
        "# Add v to each row of x using broadcasting\n",
        "y = x + v  \n",
        "print(y)"
      ],
      "execution_count": 0,
      "outputs": [
        {
          "output_type": "stream",
          "text": [
            "[[ 2  2  4]\n",
            " [ 5  5  7]\n",
            " [ 8  8 10]\n",
            " [11 11 13]]\n"
          ],
          "name": "stdout"
        }
      ]
    },
    {
      "cell_type": "markdown",
      "metadata": {
        "id": "naM40KvBPijf",
        "colab_type": "text"
      },
      "source": [
        "* The line y = x + v works even though x has shape (4, 3) and v has shape (3,) due to broadcasting; \n",
        "* this line works as if v actually had shape (4, 3), where each row was a copy of v, and the sum was performed elementwise."
      ]
    },
    {
      "cell_type": "markdown",
      "metadata": {
        "id": "h8_IsvcjPijg",
        "colab_type": "text"
      },
      "source": [
        "**Broadcasting two arrays together follows these rules:**\n",
        "\n",
        "* If the arrays do not have the same rank, prepend the shape of the lower rank array with 1s until both shapes have the same length.\n",
        "* The two arrays are said to be compatible in a dimension if they have the same size in the dimension, or if one of the arrays has size 1 in that dimension.\n",
        "* The arrays can be broadcast together if they are compatible in all dimensions.\n",
        "* After broadcasting, each array behaves as if it had shape equal to the elementwise maximum of shapes of the two input arrays.\n",
        "* In any dimension where one array had size 1 and the other array had size greater than 1, the first array behaves as if it were copied along that dimension"
      ]
    },
    {
      "cell_type": "markdown",
      "metadata": {
        "id": "jwFUI7THPijh",
        "colab_type": "text"
      },
      "source": [
        "* Functions that support broadcasting are known as universal functions."
      ]
    },
    {
      "cell_type": "markdown",
      "metadata": {
        "id": "hPQWlKfUPijh",
        "colab_type": "text"
      },
      "source": [
        "**Here are some applications of broadcasting:**"
      ]
    },
    {
      "cell_type": "code",
      "metadata": {
        "id": "B6aTNp4RPijj",
        "colab_type": "code",
        "colab": {},
        "outputId": "4ad64925-db4d-49fc-82d0-f6b6a7387c33"
      },
      "source": [
        "import numpy as np\n",
        "\n",
        "# Compute outer product of vectors\n",
        "v = np.array([1,2,3])  # v has shape (3,)\n",
        "w = np.array([4,5])    # w has shape (2,)\n",
        "# To compute an outer product, we first reshape v to be a column\n",
        "# vector of shape (3, 1); we can then broadcast it against w to yield\n",
        "# an output of shape (3, 2), which is the outer product of v and w:\n",
        "# [[ 4  5]\n",
        "#  [ 8 10]\n",
        "#  [12 15]]\n",
        "print(np.reshape(v, (3, 1)) * w)"
      ],
      "execution_count": 0,
      "outputs": [
        {
          "output_type": "stream",
          "text": [
            "[[ 4  5]\n",
            " [ 8 10]\n",
            " [12 15]]\n"
          ],
          "name": "stdout"
        }
      ]
    },
    {
      "cell_type": "code",
      "metadata": {
        "id": "7TLkl5utPijo",
        "colab_type": "code",
        "colab": {},
        "outputId": "f4f03c63-9265-4705-ef96-fa7af0821b2d"
      },
      "source": [
        "# Add a vector to each row of a matrix\n",
        "x = np.array([[1,2,3], [4,5,6]])\n",
        "# x has shape (2, 3) and v has shape (3,) so they broadcast to (2, 3),\n",
        "# giving the following matrix:\n",
        "# [[2 4 6]\n",
        "#  [5 7 9]]\n",
        "print(x + v)"
      ],
      "execution_count": 0,
      "outputs": [
        {
          "output_type": "stream",
          "text": [
            "[[2 4 6]\n",
            " [5 7 9]]\n"
          ],
          "name": "stdout"
        }
      ]
    },
    {
      "cell_type": "code",
      "metadata": {
        "id": "XhrxffKkPijq",
        "colab_type": "code",
        "colab": {},
        "outputId": "c6964ad1-b5df-4c63-fd20-4b4843387a6a"
      },
      "source": [
        "# Add a vector to each column of a matrix\n",
        "# x has shape (2, 3) and w has shape (2,).\n",
        "# If we transpose x then it has shape (3, 2) and can be broadcast\n",
        "# against w to yield a result of shape (3, 2); transposing this result\n",
        "# yields the final result of shape (2, 3) which is the matrix x with\n",
        "# the vector w added to each column. Gives the following matrix:\n",
        "# [[ 5  6  7]\n",
        "#  [ 9 10 11]]\n",
        "print((x.T + w).T)"
      ],
      "execution_count": 0,
      "outputs": [
        {
          "output_type": "stream",
          "text": [
            "[[ 5  6  7]\n",
            " [ 9 10 11]]\n"
          ],
          "name": "stdout"
        }
      ]
    },
    {
      "cell_type": "code",
      "metadata": {
        "id": "vNvXkXfiPiju",
        "colab_type": "code",
        "colab": {},
        "outputId": "03791f3f-7122-4031-be78-006500b9416b"
      },
      "source": [
        "# Another solution is to reshape w to be a column vector of shape (2, 1);\n",
        "# we can then broadcast it directly against x to produce the same\n",
        "# output.\n",
        "print(x + np.reshape(w, (2, 1)))"
      ],
      "execution_count": 0,
      "outputs": [
        {
          "output_type": "stream",
          "text": [
            "[[ 5  6  7]\n",
            " [ 9 10 11]]\n"
          ],
          "name": "stdout"
        }
      ]
    },
    {
      "cell_type": "code",
      "metadata": {
        "id": "N7Nmecg6Pij0",
        "colab_type": "code",
        "colab": {},
        "outputId": "894cae38-a131-4726-a5b8-f1b926bc489d"
      },
      "source": [
        "# Multiply a matrix by a constant:\n",
        "# x has shape (2, 3). Numpy treats scalars as arrays of shape ();\n",
        "# these can be broadcast together to shape (2, 3), producing the\n",
        "# following array:\n",
        "# [[ 2  4  6]\n",
        "#  [ 8 10 12]]\n",
        "print(x * 2)"
      ],
      "execution_count": 0,
      "outputs": [
        {
          "output_type": "stream",
          "text": [
            "[[ 2  4  6]\n",
            " [ 8 10 12]]\n"
          ],
          "name": "stdout"
        }
      ]
    },
    {
      "cell_type": "markdown",
      "metadata": {
        "id": "vPR3mM_9Pij7",
        "colab_type": "text"
      },
      "source": [
        "* Broadcasting typically makes your code more concise and faster, so you should strive to use it where possible."
      ]
    },
    {
      "cell_type": "markdown",
      "metadata": {
        "id": "pPnAVKc7Pij8",
        "colab_type": "text"
      },
      "source": [
        "![Screenshot%20from%202018-05-10%2012-27-49.png](attachment:Screenshot%20from%202018-05-10%2012-27-49.png)"
      ]
    },
    {
      "cell_type": "markdown",
      "metadata": {
        "id": "Bmvi1atyPij9",
        "colab_type": "text"
      },
      "source": [
        "<a id='3'></a>\n",
        "## Memory Mapped Files"
      ]
    },
    {
      "cell_type": "markdown",
      "metadata": {
        "id": "SDdQ1bw5Pij-",
        "colab_type": "text"
      },
      "source": [
        "* A memory-mapped file contains the contents of a file in virtual memory.\n",
        "* This mapping between a file and memory space enables an application, including multiple processes, to modify the file by reading and writing directly to the memory"
      ]
    },
    {
      "cell_type": "markdown",
      "metadata": {
        "id": "qXbF2qVrPij-",
        "colab_type": "text"
      },
      "source": [
        "![1.jpg](attachment:1.jpg)"
      ]
    },
    {
      "cell_type": "markdown",
      "metadata": {
        "id": "wiLyRjUvPij_",
        "colab_type": "text"
      },
      "source": [
        "**There are two types of memory-mapped files:**"
      ]
    },
    {
      "cell_type": "markdown",
      "metadata": {
        "id": "Nggo0IE8Pij_",
        "colab_type": "text"
      },
      "source": [
        "* Persisted memory-mapped files\n",
        "\n",
        "    * Persisted files are memory-mapped files that are associated with a source file on a disk.\n",
        "    * When the last process has finished working with the file, the data is saved to the source file on the disk. \n",
        "    * These memory-mapped files are suitable for working with extremely large source files.\n",
        "\n",
        "* Non-persisted memory-mapped files\n",
        "\n",
        "    * Non-persisted files are memory-mapped files that are not associated with a file on a disk.\n",
        "    * When the last process has finished working with the file, the data is lost and the file is reclaimed by garbage collection. \n",
        "    * These files are suitable for creating shared memory for inter-process communications (IPC)."
      ]
    },
    {
      "cell_type": "markdown",
      "metadata": {
        "id": "Ed8cZK-YPij_",
        "colab_type": "text"
      },
      "source": [
        "![Screenshot%20from%202018-05-10%2002-57-09.png](attachment:Screenshot%20from%202018-05-10%2002-57-09.png)"
      ]
    },
    {
      "cell_type": "markdown",
      "metadata": {
        "id": "jR3py6SiPikA",
        "colab_type": "text"
      },
      "source": [
        "* The memmap object can be used anywhere an ndarray is accepted. Given a memmap fp, isinstance(fp, numpy.ndarray) returns True.\n",
        "\n",
        "* Memory-mapped files cannot be larger than 2GB on 32-bit systems.\n",
        "\n"
      ]
    },
    {
      "cell_type": "markdown",
      "metadata": {
        "id": "rem6oaatPikA",
        "colab_type": "text"
      },
      "source": [
        "**Examples**\n",
        "* This example uses a temporary file so that doctest doesn’t write files to your directory. You would use a ‘normal’ filename."
      ]
    },
    {
      "cell_type": "code",
      "metadata": {
        "id": "TRL58neFPikB",
        "colab_type": "code",
        "colab": {}
      },
      "source": [
        "from tempfile import mkdtemp\n",
        "import os.path as path\n",
        "filename = path.join(mkdtemp(), 'newfile.dat')"
      ],
      "execution_count": 0,
      "outputs": []
    },
    {
      "cell_type": "markdown",
      "metadata": {
        "id": "6LNz9KVNPikC",
        "colab_type": "text"
      },
      "source": [
        "**Create a memmap with dtype and shape that matches our data:**"
      ]
    },
    {
      "cell_type": "code",
      "metadata": {
        "id": "ojh8ToFmPikC",
        "colab_type": "code",
        "colab": {},
        "outputId": "217bd078-1925-4f4f-d33f-e72e98f59cd3"
      },
      "source": [
        "fp = np.memmap(filename, dtype='float32', mode='w+', shape=(3,4))\n",
        "fp"
      ],
      "execution_count": 0,
      "outputs": [
        {
          "output_type": "execute_result",
          "data": {
            "text/plain": [
              "memmap([[0., 0., 0., 0.],\n",
              "        [0., 0., 0., 0.],\n",
              "        [0., 0., 0., 0.]], dtype=float32)"
            ]
          },
          "metadata": {
            "tags": []
          },
          "execution_count": 32
        }
      ]
    },
    {
      "cell_type": "markdown",
      "metadata": {
        "id": "xPuVm9SoPikE",
        "colab_type": "text"
      },
      "source": [
        "**Write data to memmap array:**"
      ]
    },
    {
      "cell_type": "code",
      "metadata": {
        "id": "S7OFozjkPikE",
        "colab_type": "code",
        "colab": {}
      },
      "source": [
        "data = np.arange(12, dtype='float32')\n",
        "data.resize((3,4))"
      ],
      "execution_count": 0,
      "outputs": []
    },
    {
      "cell_type": "markdown",
      "metadata": {
        "id": "tbS2cXw-PikH",
        "colab_type": "text"
      },
      "source": [
        "![Screenshot%20from%202018-05-10%2012-28-48.png](attachment:Screenshot%20from%202018-05-10%2012-28-48.png)"
      ]
    },
    {
      "cell_type": "code",
      "metadata": {
        "scrolled": true,
        "id": "tIEXqF5xPikH",
        "colab_type": "code",
        "colab": {},
        "outputId": "d5cc58af-52d4-44df-9496-0c8650ccc3b9"
      },
      "source": [
        "fp[:] = data[:]\n",
        "fp"
      ],
      "execution_count": 0,
      "outputs": [
        {
          "output_type": "execute_result",
          "data": {
            "text/plain": [
              "memmap([[ 0.,  1.,  2.,  3.],\n",
              "        [ 4.,  5.,  6.,  7.],\n",
              "        [ 8.,  9., 10., 11.]], dtype=float32)"
            ]
          },
          "metadata": {
            "tags": []
          },
          "execution_count": 34
        }
      ]
    },
    {
      "cell_type": "markdown",
      "metadata": {
        "id": "3QUrPylsPikJ",
        "colab_type": "text"
      },
      "source": [
        "**Deletion flushes memory changes to disk before removing the object:**"
      ]
    },
    {
      "cell_type": "code",
      "metadata": {
        "id": "FHM0mRSaPikK",
        "colab_type": "code",
        "colab": {}
      },
      "source": [
        "del fp"
      ],
      "execution_count": 0,
      "outputs": []
    },
    {
      "cell_type": "markdown",
      "metadata": {
        "id": "btmkVFtZPikO",
        "colab_type": "text"
      },
      "source": [
        "**Load the memmap and verify data was stored:**"
      ]
    },
    {
      "cell_type": "code",
      "metadata": {
        "id": "Jsybq-9jPikP",
        "colab_type": "code",
        "colab": {},
        "outputId": "a462bd16-126d-44e1-9888-1eaa0493d140"
      },
      "source": [
        "newfp = np.memmap(filename, dtype='float32', mode='r', shape=(3,4))\n",
        "newfp"
      ],
      "execution_count": 0,
      "outputs": [
        {
          "output_type": "execute_result",
          "data": {
            "text/plain": [
              "memmap([[ 0.,  1.,  2.,  3.],\n",
              "        [ 4.,  5.,  6.,  7.],\n",
              "        [ 8.,  9., 10., 11.]], dtype=float32)"
            ]
          },
          "metadata": {
            "tags": []
          },
          "execution_count": 36
        }
      ]
    },
    {
      "cell_type": "markdown",
      "metadata": {
        "id": "kvSjk4WcPikR",
        "colab_type": "text"
      },
      "source": [
        "**Read-only memmap:**"
      ]
    },
    {
      "cell_type": "code",
      "metadata": {
        "id": "XE1l-jyaPikS",
        "colab_type": "code",
        "colab": {},
        "outputId": "282a2904-ae35-4ba6-d698-679a885a89fc"
      },
      "source": [
        "fpr = np.memmap(filename, dtype='float32', mode='r', shape=(3,4))\n",
        "fpr.flags.writeable"
      ],
      "execution_count": 0,
      "outputs": [
        {
          "output_type": "execute_result",
          "data": {
            "text/plain": [
              "False"
            ]
          },
          "metadata": {
            "tags": []
          },
          "execution_count": 37
        }
      ]
    },
    {
      "cell_type": "markdown",
      "metadata": {
        "id": "jKuZd6mMPikU",
        "colab_type": "text"
      },
      "source": [
        "**Copy-on-write memmap:**"
      ]
    },
    {
      "cell_type": "code",
      "metadata": {
        "id": "hixynxnyPikU",
        "colab_type": "code",
        "colab": {},
        "outputId": "2f7fac74-ff20-4cbe-da73-3c2bda7efcd4"
      },
      "source": [
        "fpc = np.memmap(filename, dtype='float32', mode='c', shape=(3,4))\n",
        "fpc.flags.writeable"
      ],
      "execution_count": 0,
      "outputs": [
        {
          "output_type": "execute_result",
          "data": {
            "text/plain": [
              "True"
            ]
          },
          "metadata": {
            "tags": []
          },
          "execution_count": 38
        }
      ]
    },
    {
      "cell_type": "markdown",
      "metadata": {
        "id": "nCg3uDsPPikW",
        "colab_type": "text"
      },
      "source": [
        "**It’s possible to assign to copy-on-write array, but values are only written into the memory copy of the array, and not written to disk:**"
      ]
    },
    {
      "cell_type": "code",
      "metadata": {
        "id": "jEWsqlYiPikW",
        "colab_type": "code",
        "colab": {},
        "outputId": "b0075c2b-eb2e-40ec-828f-591cbf99c362"
      },
      "source": [
        "fpc"
      ],
      "execution_count": 0,
      "outputs": [
        {
          "output_type": "execute_result",
          "data": {
            "text/plain": [
              "memmap([[ 0.,  1.,  2.,  3.],\n",
              "        [ 4.,  5.,  6.,  7.],\n",
              "        [ 8.,  9., 10., 11.]], dtype=float32)"
            ]
          },
          "metadata": {
            "tags": []
          },
          "execution_count": 39
        }
      ]
    },
    {
      "cell_type": "code",
      "metadata": {
        "id": "4TRcXzl1Pikb",
        "colab_type": "code",
        "colab": {}
      },
      "source": [
        "fpc[0,:] = 0"
      ],
      "execution_count": 0,
      "outputs": []
    },
    {
      "cell_type": "code",
      "metadata": {
        "id": "trSHSyVGPikd",
        "colab_type": "code",
        "colab": {},
        "outputId": "fccd638e-6d8b-4d16-8b5c-13ab8fe27936"
      },
      "source": [
        "fpc"
      ],
      "execution_count": 0,
      "outputs": [
        {
          "output_type": "execute_result",
          "data": {
            "text/plain": [
              "memmap([[ 0.,  0.,  0.,  0.],\n",
              "        [ 4.,  5.,  6.,  7.],\n",
              "        [ 8.,  9., 10., 11.]], dtype=float32)"
            ]
          },
          "metadata": {
            "tags": []
          },
          "execution_count": 41
        }
      ]
    },
    {
      "cell_type": "markdown",
      "metadata": {
        "id": "qP7GeFyfPikf",
        "colab_type": "text"
      },
      "source": [
        "**File on disk is unchanged:**"
      ]
    },
    {
      "cell_type": "code",
      "metadata": {
        "id": "QpBpPOACPikf",
        "colab_type": "code",
        "colab": {},
        "outputId": "e4dfceb6-9dfe-4844-96f0-507f216755a1"
      },
      "source": [
        "fpr"
      ],
      "execution_count": 0,
      "outputs": [
        {
          "output_type": "execute_result",
          "data": {
            "text/plain": [
              "memmap([[ 0.,  1.,  2.,  3.],\n",
              "        [ 4.,  5.,  6.,  7.],\n",
              "        [ 8.,  9., 10., 11.]], dtype=float32)"
            ]
          },
          "metadata": {
            "tags": []
          },
          "execution_count": 42
        }
      ]
    },
    {
      "cell_type": "markdown",
      "metadata": {
        "id": "i8ZMSg92Pikh",
        "colab_type": "text"
      },
      "source": [
        "<a id='4'></a>\n",
        "## References"
      ]
    },
    {
      "cell_type": "markdown",
      "metadata": {
        "id": "5qps1lKXPiki",
        "colab_type": "text"
      },
      "source": [
        "* https://webcourses.ucf.edu/courses/1249560/pages/python-lists-vs-numpy-arrays-what-is-the-difference\n",
        "* https://towardsdatascience.com/lets-talk-about-numpy-for-datascience-beginners-b8088722309f\n",
        "* https://docs.scipy.org/doc/numpy-1.14.0/reference/generated/numpy.memmap.html\n",
        "* http://www.scipy-lectures.org/intro/numpy/numpy.html#basic-visualization\n",
        "* http://cs231n.github.io/python-numpy-tutorial/"
      ]
    }
  ]
}