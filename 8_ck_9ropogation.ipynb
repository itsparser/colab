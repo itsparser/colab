{
  "nbformat": 4,
  "nbformat_minor": 0,
  "metadata": {
    "colab": {
      "name": "8@ck_9ropogation.ipynb",
      "version": "0.3.2",
      "provenance": [],
      "include_colab_link": true
    },
    "kernelspec": {
      "name": "python3",
      "display_name": "Python 3"
    }
  },
  "cells": [
    {
      "cell_type": "markdown",
      "metadata": {
        "id": "view-in-github",
        "colab_type": "text"
      },
      "source": [
        "<a href=\"https://colab.research.google.com/github/itsparser/colab/blob/live-session/8_ck_9ropogation.ipynb\" target=\"_parent\"><img src=\"https://colab.research.google.com/assets/colab-badge.svg\" alt=\"Open In Colab\"/></a>"
      ]
    },
    {
      "cell_type": "markdown",
      "metadata": {
        "id": "qv-rUJH3RwP7",
        "colab_type": "text"
      },
      "source": [
        "## **Introduction**\n",
        "\n",
        "---\n",
        "\n",
        "  This Seesion We will find how to BackPropogation Works in Machine learning \n",
        "     \n",
        "   #####  BackPropogation : \n",
        "    * It is one of the baby setp of Machine learning \n",
        "    * though still backbone for most of the Machine learning algorithm \n",
        "    * For Starters still one of the best place to start Machine learning "
      ]
    },
    {
      "cell_type": "code",
      "metadata": {
        "id": "TGYW-lk5SYNN",
        "colab_type": "code",
        "colab": {}
      },
      "source": [
        "# Program : Machine learning - Back Propogation\n",
        "# \n",
        "# Written in Python.  See http://www.python.org/\n",
        "# Vasanth Kumar <itsparser@gmail.com>\n",
        "\n",
        "import math\n",
        "import random\n",
        "import string"
      ],
      "execution_count": 0,
      "outputs": []
    },
    {
      "cell_type": "code",
      "metadata": {
        "id": "S0ReIesLUpdE",
        "colab_type": "code",
        "colab": {}
      },
      "source": [
        "#Generate Random number With Seed as 0\n",
        "\n",
        "random.seed(0)\n",
        "\n",
        "#Method to generate random number\n",
        "def generateRandom(a,b):\n",
        "  if(a>b):\n",
        "    a,b = b,a\n",
        "  return (random.random() * (b-a)) +a\n"
      ],
      "execution_count": 0,
      "outputs": []
    },
    {
      "cell_type": "code",
      "metadata": {
        "id": "AorWC6TwVKG2",
        "colab_type": "code",
        "colab": {
          "base_uri": "https://localhost:8080/",
          "height": 34
        },
        "outputId": "754c2419-9440-4e42-b6ae-8c1d0fbfc244"
      },
      "source": [
        "random.random()"
      ],
      "execution_count": 8,
      "outputs": [
        {
          "output_type": "execute_result",
          "data": {
            "text/plain": [
              "0.4049341374504143"
            ]
          },
          "metadata": {
            "tags": []
          },
          "execution_count": 8
        }
      ]
    }
  ]
}